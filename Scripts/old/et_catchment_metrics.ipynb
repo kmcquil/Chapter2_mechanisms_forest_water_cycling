{
 "cells": [
  {
   "cell_type": "code",
   "execution_count": null,
   "metadata": {},
   "outputs": [],
   "source": [
    "# Summarize ET metrics by catchment \n",
    "# Average ET rate \n",
    "# Ratio upslope to downslope ET \n",
    "# SD ET \n",
    "\n",
    "# For a given headwater catchment\n",
    "# Loop through each ET file\n",
    "# Check if the headwater catchment is within the image extent\n",
    "# "
   ]
  },
  {
   "cell_type": "code",
   "execution_count": 18,
   "metadata": {},
   "outputs": [],
   "source": [
    "import os\n",
    "import geopandas as gpd\n",
    "from glob import glob\n",
    "import numpy as np\n",
    "import pandas as pd \n",
    "import rasterio \n",
    "from rasterio.merge import merge\n",
    "from rasterio.plot import show\n",
    "from rasterio.mask import mask\n",
    "import matplotlib.pyplot as plt\n",
    "import shutil\n",
    "import sys\n",
    "\n",
    "exec(open(os.path.join(os.getcwd(), \"Functions.py\")).read())\n",
    "\n",
    "home = \"/Volumes/GoogleDrive/My Drive/Chapter2_mechanisms_forest_water_cycling\""
   ]
  },
  {
   "cell_type": "code",
   "execution_count": 46,
   "metadata": {},
   "outputs": [],
   "source": [
    "et_files = glob(os.path.join(home, \"Data\", \"Evapotranspiration\", \"Ecostress\", \"Data\", \"clean\", \"*.tif\"))\n",
    "#hws = gpd.read_file(glob(os.path.join(home, \"Data\", \"Catchments\", \"Headwater\", \"headwater_catchments_sbr.gpkg\"))[0])\n",
    "hws = gpd.read_file(glob(os.path.join(home, \"Data\", \"Catchments\", \"Headwater\", \"headwater_catchments_100_32617.shp\"))[0])\n",
    "hws_ids = hws['NHDPlusID']\n",
    "uca = glob(os.path.join(home, \"Data\", \"Topography\", \"UCA\", \"uca_10m_sbr.tif\"))[0]"
   ]
  },
  {
   "cell_type": "code",
   "execution_count": 57,
   "metadata": {},
   "outputs": [
    {
     "data": {
      "text/plain": [
       "'finished 25000400143609'"
      ]
     },
     "execution_count": 57,
     "metadata": {},
     "output_type": "execute_result"
    }
   ],
   "source": [
    "et_files = glob(os.path.join(home, \"Data\", \"Evapotranspiration\", \"Ecostress\", \"Data\", \"clean\", \"*.tif\"))\n",
    "execfile(os.path.join(os.getcwd(), \"Functions.py\"))\n",
    "uca = glob(os.path.join(home, \"Data\", \"Topography\", \"UCA\", \"uca_10m_sbr.tif\"))[0]\n",
    "#for id in hws_ids[0:30]:\n",
    "#    id = int(id)\n",
    "#    hw = hws[hws.NHDPlusID == id]\n",
    "#    catchment_et_metrics(hw, id, uca, et_files)\n",
    "id = int(25000400143609)\n",
    "hw = hws[hws.NHDPlusID == id]\n",
    "catchment_et_metrics(hw, id, uca, et_files)\n"
   ]
  },
  {
   "cell_type": "code",
   "execution_count": null,
   "metadata": {},
   "outputs": [],
   "source": []
  },
  {
   "cell_type": "code",
   "execution_count": null,
   "metadata": {},
   "outputs": [],
   "source": []
  },
  {
   "cell_type": "code",
   "execution_count": 50,
   "metadata": {},
   "outputs": [],
   "source": [
    "et_files = glob(os.path.join(home, \"Data\", \"Evapotranspiration\", \"Ecostress\", \"Data\", \"clean\", \"*.tif\"))\n",
    "\n",
    "id = int(25000400143609)\n",
    "hws = gpd.read_file(glob(os.path.join(home, \"Data\", \"Catchments\", \"Headwater\", \"headwater_catchments_100_32617.shp\"))[0])\n",
    "hws_ids = hws['NHDPlusID']\n",
    "hw = hws[hws.NHDPlusID == id]\n",
    "\n",
    "boundary = hw\n",
    "wsid = id\n",
    "uca = uca\n",
    "et_file_list = et_files\n",
    "\n",
    "uca_path = os.path.join(home, \"Data\", \"Topography\", \"UCA\",\"UCA\" + str(wsid))\n",
    "is_exist = os.path.exists(uca_path)\n",
    "if not is_exist:\n",
    "    os.makedirs(uca_path)\n",
    "# crop the UCA to boundary and save it to the watershed specific uca folder \n",
    "uca_path_name = os.path.join(uca_path, \"uca.tif\")\n",
    "crop_to_boundary(uca, boundary, uca_path_name)\n",
    "\n",
    "image = \"/Volumes/GoogleDrive/My Drive/Chapter2_mechanisms_forest_water_cycling/Data/Evapotranspiration/Ecostress/Data/clean/ECO3ETPTJPL.001_EVAPOTRANSPIRATION_PT_JPL_ETinst_doy2019167142015_aid0001.tif\"\n",
    "\n",
    "#missing_data = check_missing_data(image, boundary['geometry'])"
   ]
  },
  {
   "cell_type": "code",
   "execution_count": 56,
   "metadata": {},
   "outputs": [
    {
     "name": "stdout",
     "output_type": "stream",
     "text": [
      "-84.79262132533314 34.03244610752749\n"
     ]
    }
   ],
   "source": [
    "image = \"/Volumes/GoogleDrive/My Drive/Chapter2_mechanisms_forest_water_cycling/Data/Evapotranspiration/Ecostress/Data/clean/ECO3ETPTJPL.001_EVAPOTRANSPIRATION_PT_JPL_ETinst_doy2019167142015_aid0001.tif\"\n",
    "image = rasterio.open(image, GDAL_DISABLE_READDIR_ON_OPEN=True)\n",
    "img_extent = str(image.bounds)\n",
    "p = re.compile(r'[+-]?\\d+\\.\\d+') \n",
    "\n",
    "tif_minx, tif_miny, tif_maxx, tif_maxy = [float(i) for i in p.findall(img_extent)]  # Convert strings to float\n",
    "print(tif_minx, tif_miny)"
   ]
  },
  {
   "cell_type": "code",
   "execution_count": 53,
   "metadata": {},
   "outputs": [
    {
     "data": {
      "text/plain": [
       "'BoundingBox(left=-84.79262132533314, bottom=34.03244610752749, right=-79.73554507669932, top=37.331883849678704)'"
      ]
     },
     "execution_count": 53,
     "metadata": {},
     "output_type": "execute_result"
    }
   ],
   "source": [
    "img_extent"
   ]
  },
  {
   "cell_type": "code",
   "execution_count": 52,
   "metadata": {},
   "outputs": [
    {
     "name": "stdout",
     "output_type": "stream",
     "text": [
      "-83.20726149982555 35.59850588386683\n"
     ]
    }
   ],
   "source": [
    "boundary=boundary.to_crs(image.crs)\n",
    "shp_minx, shp_miny, shp_maxx, shp_maxy = boundary.geometry.total_bounds\n",
    "print(shp_minx, shp_miny)"
   ]
  },
  {
   "cell_type": "code",
   "execution_count": 36,
   "metadata": {},
   "outputs": [
    {
     "data": {
      "text/plain": [
       "<Geographic 2D CRS: EPSG:4326>\n",
       "Name: WGS 84\n",
       "Axis Info [ellipsoidal]:\n",
       "- Lat[north]: Geodetic latitude (degree)\n",
       "- Lon[east]: Geodetic longitude (degree)\n",
       "Area of Use:\n",
       "- undefined\n",
       "Datum: World Geodetic System 1984\n",
       "- Ellipsoid: WGS 84\n",
       "- Prime Meridian: Greenwich"
      ]
     },
     "execution_count": 36,
     "metadata": {},
     "output_type": "execute_result"
    }
   ],
   "source": [
    "boundary.crs\n"
   ]
  }
 ],
 "metadata": {
  "interpreter": {
   "hash": "f7e9e3ed62266d3386b0937140899a88d3a70dd81de793411d23e0292bf7f0bb"
  },
  "kernelspec": {
   "display_name": "Python 3.9.7 ('ch2-python-env')",
   "language": "python",
   "name": "python3"
  },
  "language_info": {
   "codemirror_mode": {
    "name": "ipython",
    "version": 3
   },
   "file_extension": ".py",
   "mimetype": "text/x-python",
   "name": "python",
   "nbconvert_exporter": "python",
   "pygments_lexer": "ipython3",
   "version": "3.9.7"
  },
  "orig_nbformat": 4
 },
 "nbformat": 4,
 "nbformat_minor": 2
}
