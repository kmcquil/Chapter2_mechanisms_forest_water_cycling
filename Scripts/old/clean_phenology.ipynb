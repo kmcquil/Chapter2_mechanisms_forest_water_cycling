{
 "cells": [
  {
   "cell_type": "code",
   "execution_count": 23,
   "metadata": {},
   "outputs": [],
   "source": [
    "import os\n",
    "import glob\n",
    "import matplotlib.pyplot as plt\n",
    "import numpy.ma as ma\n",
    "import xarray as xr\n",
    "import rioxarray as rxr\n",
    "from shapely.geometry import mapping, box\n",
    "import geopandas as gpd\n",
    "import rasterio as rio\n",
    "\n",
    "\n",
    "home = \"/Volumes/GoogleDrive/My Drive/Chapter2_mechanisms_forest_water_cycling\"\n",
    "\n",
    "# we want length of growing season 1, start of season 1, and end of season 1 \n",
    "# we also want the reliability band to filter out low quality pixels \n",
    "# keep pixles where relibility =  0 (excellent), 1 (good), or 2 (acceptable)\n",
    "\n",
    "# to process each year \n",
    "# clip the layers to the xl roi \n",
    "# mask all of the unreliable pixels"
   ]
  },
  {
   "cell_type": "code",
   "execution_count": 73,
   "metadata": {},
   "outputs": [],
   "source": [
    "def clean_phenology(file, boundary, bands):\n",
    "\n",
    "    # select which of the bands we are interested in and crop the file to the boundary \n",
    "    clipped = rxr.open_rasterio(file, \n",
    "                masked=True,\n",
    "                variable=bands).rio.clip(boundary.geometry.apply(mapping),\n",
    "                                        crs=boundary.crs, \n",
    "                                        all_touched=True,\n",
    "                                        from_disk=True).squeeze()\n",
    "\n",
    "    # mask out bad quality pixels\n",
    "    masked = clipped.where((clipped['Reliability'] == 0) | (clipped['Reliability'] == 1) | (clipped['Reliability'] == 2))\n",
    "    masked = masked.drop('Reliability')\n",
    "\n",
    "    # write each band of interest out to a different folder \n",
    "    year = masked.attrs['RANGEBEGINNINGDATE'][0:4]\n",
    "    VARS = list(masked.keys())\n",
    "    VARS = [i.replace(\" \", \"_\") for i in VARS]\n",
    "\n",
    "    for variable in VARS:\n",
    "        isExist = os.path.exists(os.path.join(home, \"Data\", \"Phenology\", variable))\n",
    "        if not isExist:\n",
    "            os.makedirs(os.path.join(home, \"Data\", \"Phenology\", variable))     \n",
    "        masked[variable.replace(\"_\", \" \")].rio.to_raster(os.path.join(home, \"Data\", \"Phenology\", variable, variable + \"_\" + year + \".tif\"))\n"
   ]
  },
  {
   "cell_type": "code",
   "execution_count": 74,
   "metadata": {},
   "outputs": [],
   "source": [
    "phen_hdf = glob.glob(os.path.join(home, \"Data\", \"Phenology\", \"*.hdf\"))\n",
    "boundary = gpd.read_file(os.path.join(home, \"Data\", \"ROI\", \"blue_ridge_plus_reference_xl.shp\"))\n",
    "bands = ['Start of Season 1', 'End of Season 1','Length of Season 1', \"Reliability\"]\n",
    "\n",
    "for file in phen_hdf:\n",
    "    clean_phenology(file, boundary, bands)"
   ]
  }
 ],
 "metadata": {
  "interpreter": {
   "hash": "f7e9e3ed62266d3386b0937140899a88d3a70dd81de793411d23e0292bf7f0bb"
  },
  "kernelspec": {
   "display_name": "Python 3.9.7 ('ch2-python-env')",
   "language": "python",
   "name": "python3"
  },
  "language_info": {
   "codemirror_mode": {
    "name": "ipython",
    "version": 3
   },
   "file_extension": ".py",
   "mimetype": "text/x-python",
   "name": "python",
   "nbconvert_exporter": "python",
   "pygments_lexer": "ipython3",
   "version": "3.9.7"
  },
  "orig_nbformat": 4
 },
 "nbformat": 4,
 "nbformat_minor": 2
}
