{
 "cells": [
  {
   "cell_type": "markdown",
   "metadata": {},
   "source": [
    "### Download USGS streamflow data for reference watersheds\n",
    "\n",
    "Identify reference watersheds using gages-ii that fall within the blue ridge ecoregion \n",
    "\n",
    "Check the streamflow availability for each gage"
   ]
  },
  {
   "cell_type": "code",
   "execution_count": 3,
   "metadata": {},
   "outputs": [],
   "source": [
    "import geopandas as gpd\n",
    "import numpy as np\n",
    "import pandas as pd \n",
    "import dataretrieval.nwis as nwis\n",
    "from datetime import date, timedelta\n",
    "import rasterio\n",
    "from rasterstats import zonal_stats\n",
    "import fiona"
   ]
  },
  {
   "cell_type": "code",
   "execution_count": 4,
   "metadata": {},
   "outputs": [],
   "source": [
    "def check_streamflow(site):\n",
    "    \n",
    "    # quality control \n",
    "    # A = Approved for publication \n",
    "    # P = Provisional data subject to revision \n",
    "    # e = Value has been estimated \n",
    "\n",
    "    streamflow_df = nwis.get_record(sites=site, service = 'dv', start = '1900-01-01', parameterCd = '00060')\n",
    "    if streamflow_df.shape[0] == 0:\n",
    "        return np.nan\n",
    "    date_index = streamflow_df.index.to_series().between('1984-01-01', '2021-12-31')\n",
    "    streamflow_subset = streamflow_df[date_index]\n",
    "    streamflow_subset = streamflow_subset[streamflow_subset['00060_Mean_cd'] == 'A']\n",
    "    streamflow_subset.dropna(subset=['00060_Mean'])\n",
    "    streamflow = streamflow_subset.reset_index(drop=True)\n",
    "    # I want to use the estimated values because we can't have gaps \n",
    "\n",
    "    sdate = date(1984, 1, 1)\n",
    "    edate = date(2021, 12, 31)\n",
    "    delta = edate-sdate\n",
    "    total_days = delta.days + 1\n",
    "    \n",
    "    pct_missing = (streamflow_subset.shape[0]/total_days)*100\n",
    "    \n",
    "    return pct_missing"
   ]
  },
  {
   "cell_type": "code",
   "execution_count": 5,
   "metadata": {},
   "outputs": [],
   "source": [
    "# subset the gages-ii reference watersheds to only those intersecting the blue ridge ecoregion \n",
    "home = \"/Volumes/GoogleDrive/My Drive/Chapter2_mechanisms_forest_water_cycling\"\n",
    "roi = gpd.read_file(os.path.join(home, \"Data\", \"ROI\", \"blue_ridge.shp\"))\n",
    "gages_reference = gpd.read_file(os.path.join(home, \"Data\", \"Catchments\", \"Reference\", \"gages_ii\", \"boundaries-shapefiles-by-aggeco\", \"bas_ref_all.shp\"))\n",
    "\n",
    "roi_match = roi.to_crs(gages_reference.crs)\n",
    "roi_match = roi_match[[\"NA_L3NAME\", \"geometry\"]]\n",
    "\n",
    "gages_reference_join = gpd.tools.sjoin(gages_reference, roi_match, predicate=\"intersects\", how=\"left\")\n",
    "ref_roi = gages_reference_join.dropna(subset=['index_right'])"
   ]
  },
  {
   "cell_type": "code",
   "execution_count": 18,
   "metadata": {},
   "outputs": [
    {
     "name": "stderr",
     "output_type": "stream",
     "text": [
      "/Users/katiemcquillan/opt/anaconda3/envs/python-gis/lib/python3.9/site-packages/geopandas/geodataframe.py:1351: SettingWithCopyWarning: \n",
      "A value is trying to be set on a copy of a slice from a DataFrame.\n",
      "Try using .loc[row_indexer,col_indexer] = value instead\n",
      "\n",
      "See the caveats in the documentation: https://pandas.pydata.org/pandas-docs/stable/user_guide/indexing.html#returning-a-view-versus-a-copy\n",
      "  super().__setitem__(key, value)\n"
     ]
    }
   ],
   "source": [
    "pct_miss= []\n",
    "for gage_id in ref_roi['GAGE_ID']:\n",
    "    pct_miss.append(check_streamflow(gage_id))\n",
    "ref_roi['pct_streamflow'] = pct_miss\n"
   ]
  },
  {
   "cell_type": "code",
   "execution_count": 22,
   "metadata": {},
   "outputs": [
    {
     "data": {
      "text/plain": [
       "(28, 7)"
      ]
     },
     "execution_count": 22,
     "metadata": {},
     "output_type": "execute_result"
    }
   ],
   "source": [
    "# get rid of the reference watersheds with less than 75% of data from 1984 - 2021 \n",
    "ref_roi_keep = ref_roi[ref_roi['pct_streamflow'] >=75]\n",
    "ref_roi_keep.shape"
   ]
  },
  {
   "cell_type": "code",
   "execution_count": null,
   "metadata": {},
   "outputs": [],
   "source": [
    "# make a polygon that combines the ROI and the reference catchments for the anlaysis \n",
    "ref_roi_keep.to_file(os.path.join(home, \"Data\", \"Catchments\", \"Reference\", \"gages_ii\",  \"reference_keep.shp\"))\n",
    "sbr_ref_combo = gpd.overlay(roi_match, ref_roi_keep, how = 'union')\n",
    "sbr_ref_combo['group'] = ['group']*sbr_ref_combo.shape[0]\n",
    "sbr_ref_combo_diss = sbr_ref_combo.dissolve(by = \"group\")\n",
    "sbr_ref_combo_diss.to_file(os.path.join(home, \"Data\", \"ROI\", \"blue_ridge_plus_reference.shp\"))"
   ]
  }
 ],
 "metadata": {
  "interpreter": {
   "hash": "695636c78fe1542d910ce8d46b08ce5bcf6a4f27a4d579ca6cb07c8f57dfa656"
  },
  "kernelspec": {
   "display_name": "Python 3.9.7 ('python-gis')",
   "language": "python",
   "name": "python3"
  },
  "language_info": {
   "codemirror_mode": {
    "name": "ipython",
    "version": 3
   },
   "file_extension": ".py",
   "mimetype": "text/x-python",
   "name": "python",
   "nbconvert_exporter": "python",
   "pygments_lexer": "ipython3",
   "version": "3.9.7"
  },
  "orig_nbformat": 4
 },
 "nbformat": 4,
 "nbformat_minor": 2
}
