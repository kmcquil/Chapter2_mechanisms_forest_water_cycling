{
 "cells": [
  {
   "cell_type": "markdown",
   "metadata": {},
   "source": [
    "### Download all of the daymet data \n",
    "\n",
    "I used .sh scripts with spatial and temporal bounds to grab daily tmin, tmax, vpd, and precip over the blue ridge ecoregion from 1984 - 2021\n",
    "\n",
    "Since .sh scripts work better with linux but I wanted to download to my desktop, follow these steps: \n",
    "\n",
    "1. Create the .sh script for each climate variable and put it in the ../Data/Climate folder\n",
    "2. Open git bash and cd to the ../Data/Climate folder \n",
    "3. Run each .sh file as \".sh file_name.sh\""
   ]
  },
  {
   "cell_type": "code",
   "execution_count": 10,
   "metadata": {},
   "outputs": [
    {
     "name": "stdout",
     "output_type": "stream",
     "text": [
      " '.' is not recognized as an internal or external command,\n",
      "operable program or batch file.\n",
      "\n"
     ]
    }
   ],
   "source": [
    "# commands \n",
    "# cd G:\\\\My Drive\\\\Chapter2_mechanisms_forest_water_cycling\\\\Data\\\\Climate\n",
    "# sh download_tmin.sh\n",
    "# sh download_tmax.sh\n",
    "# sh download_vpd.sh\n",
    "# sh download_precip.sh\n",
    "# sh download_srad.sh\n",
    "# sh download_dayl.sh"
   ]
  }
 ],
 "metadata": {
  "kernelspec": {
   "display_name": "Python 3.9.12 ('base')",
   "language": "python",
   "name": "python3"
  },
  "language_info": {
   "codemirror_mode": {
    "name": "ipython",
    "version": 3
   },
   "file_extension": ".py",
   "mimetype": "text/x-python",
   "name": "python",
   "nbconvert_exporter": "python",
   "pygments_lexer": "ipython3",
   "version": "3.10.0"
  },
  "orig_nbformat": 4,
  "vscode": {
   "interpreter": {
    "hash": "d93f46bd1724abb74c9b57e6f97aabdefb732c5aec29b463163afce878c530fd"
   }
  }
 },
 "nbformat": 4,
 "nbformat_minor": 2
}
