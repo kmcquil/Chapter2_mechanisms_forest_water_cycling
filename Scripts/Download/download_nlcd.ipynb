{
 "cells": [
  {
   "cell_type": "code",
   "execution_count": 1,
   "metadata": {},
   "outputs": [],
   "source": [
    "import ee\n",
    "import geemap\n",
    "import os\n",
    "import geopandas as gpd\n",
    "ee.Initialize()\n",
    "\n",
    "home = \"/Volumes/GoogleDrive/My Drive/Chapter2_mechanisms_forest_water_cycling\""
   ]
  },
  {
   "cell_type": "code",
   "execution_count": 11,
   "metadata": {},
   "outputs": [],
   "source": [
    "# Find pixels that were forested from 1984 - 2021 using NLCD data at 30m resolution\n",
    "roi = ee.FeatureCollection('users/kmcquil/blue_ridge_plus_reference_xl').geometry()\n",
    "\n",
    "# Import the NLCD collection.\n",
    "dataset = ee.ImageCollection('USGS/NLCD_RELEASES/2016_REL')\n",
    "\n",
    "# forest is 41, 42, 43 \n",
    "def LC(y):\n",
    "    nlcd = dataset.filter(ee.Filter.eq('system:index', y))\n",
    "    landcover = nlcd.select('landcover').mosaic().clip(roi)\n",
    "    return landcover.eq(41).max(landcover.eq(42)).max(landcover.eq(43))\n",
    "\n",
    "# apply mask to all years \n",
    "years = ee.List(['1992', '2001', '2004', '2006', '2008', '2011', '2013', '2016'])\n",
    "lc_mask_years = ee.ImageCollection.fromImages(years.map(LC).flatten())\n",
    "\n",
    "# sum all of the years \n",
    "lc_sum = lc_mask_years.sum()\n",
    "\n",
    "# there are 8 years, so we only want pixels = 8 \n",
    "lc_sum8 = lc_sum.eq(8)\n",
    "lc_sum8 = lc_sum8.updateMask(lc_sum8)\n",
    "\n",
    "# export the permanent forest cover layer \n",
    "task_config = {\n",
    "        'region': roi,\n",
    "        'fileFormat': 'GeoTIFF',\n",
    "        'folder':'nlcd_permanent_forest',\n",
    "        'description': 'landsat_permanent_forest',\n",
    "        'image': lc_sum8,\n",
    "        'maxPixels':1e13, \n",
    "        'scale' : 30\n",
    "    }\n",
    "\n",
    "task=ee.batch.Export.image.toDrive(**task_config)\n",
    "task.start()\n",
    "\n",
    "task2 = ee.batch.Export.image.toAsset(**{\n",
    "  'image': lc_sum,\n",
    "  'description': 'sum of forest pixels',\n",
    "  'assetId': 'users/kmcquil/nlcd_sum_forest',\n",
    "  'scale': 30,\n",
    "  'region':roi, #roi.getInfo()['coordinates']\n",
    "  'maxPixels':1e13\n",
    "})\n",
    "task2.start()"
   ]
  },
  {
   "cell_type": "code",
   "execution_count": 5,
   "metadata": {},
   "outputs": [],
   "source": [
    "# convert the gpkg to a shapefile and upload to GEE (use code editor asset uploader )\n",
    "hws = gpd.read_file(os.path.join(home, \"Data\", \"Catchments\", \"Headwater\", \"headwater_catchments_sbr.gpkg\"))\n",
    "hws4326 = hws.to_crs(\"EPSG:4326\")\n",
    "hws4326.to_file(os.path.join(home, \"Data\", \"Catchments\", \"Headwater\", \"headwater_catchments_sbr_shp.shp\"))"
   ]
  },
  {
   "cell_type": "code",
   "execution_count": 16,
   "metadata": {},
   "outputs": [],
   "source": [
    "# Grab the nlcd for 2001 and 2016 so that I can compare the deciduous vs evergreen percentages by headwater catchment\n",
    "roi = ee.FeatureCollection('users/kmcquil/blue_ridge_plus_reference_xl').geometry()\n",
    "\n",
    "# Import the NLCD collection and grab the data for 2001 and 2016 \n",
    "dataset = ee.ImageCollection('USGS/NLCD_RELEASES/2016_REL')\n",
    "nlcd_2001 = dataset.filter(ee.Filter.eq('system:index', '2001'))\n",
    "nlcd_2001 = nlcd_2001.select('landcover').mosaic().clip(roi)\n",
    "\n",
    "nlcd_2016 = dataset.filter(ee.Filter.eq('system:index', '2016'))\n",
    "nlcd_2016 = nlcd_2016.select('landcover').mosaic().clip(roi)\n",
    "\n",
    "# export nlcd 2001 \n",
    "task_config_2001 = {\n",
    "        'region': roi,\n",
    "        'fileFormat': 'GeoTIFF',\n",
    "        'folder':'nlcd_permanent_forest',\n",
    "        'description': 'nlcd_2001',\n",
    "        'image': nlcd_2001,\n",
    "        'maxPixels':1e13, \n",
    "        'scale' : 30\n",
    "    }\n",
    "\n",
    "task2001=ee.batch.Export.image.toDrive(**task_config_2001)\n",
    "task2001.start()\n",
    "\n",
    "# export nlcd 2016\n",
    "task_config_2016 = {\n",
    "        'region': roi,\n",
    "        'fileFormat': 'GeoTIFF',\n",
    "        'folder':'nlcd_permanent_forest',\n",
    "        'description': 'nlcd_2016',\n",
    "        'image': nlcd_2016,\n",
    "        'maxPixels':1e13, \n",
    "        'scale' : 30\n",
    "    }\n",
    "\n",
    "task2016=ee.batch.Export.image.toDrive(**task_config_2016)\n",
    "task2016.start()"
   ]
  }
 ],
 "metadata": {
  "interpreter": {
   "hash": "695636c78fe1542d910ce8d46b08ce5bcf6a4f27a4d579ca6cb07c8f57dfa656"
  },
  "kernelspec": {
   "display_name": "Python 3.9.7 ('python-gis')",
   "language": "python",
   "name": "python3"
  },
  "language_info": {
   "codemirror_mode": {
    "name": "ipython",
    "version": 3
   },
   "file_extension": ".py",
   "mimetype": "text/x-python",
   "name": "python",
   "nbconvert_exporter": "python",
   "pygments_lexer": "ipython3",
   "version": "3.9.7"
  },
  "orig_nbformat": 4
 },
 "nbformat": 4,
 "nbformat_minor": 2
}
