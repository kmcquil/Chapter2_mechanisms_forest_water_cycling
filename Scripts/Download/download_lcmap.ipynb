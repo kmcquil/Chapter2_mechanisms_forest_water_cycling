{
 "cells": [
  {
   "cell_type": "code",
   "execution_count": 1,
   "metadata": {},
   "outputs": [],
   "source": [
    "import ee\n",
    "import geemap\n",
    "import os\n",
    "import geopandas as gpd\n",
    "ee.Initialize()\n",
    "\n",
    "home = \"/Volumes/GoogleDrive/My Drive/Chapter2_mechanisms_forest_water_cycling\""
   ]
  },
  {
   "cell_type": "code",
   "execution_count": 10,
   "metadata": {},
   "outputs": [],
   "source": [
    "# get the YMD from each image in a collection as a list \n",
    "def ymdList(imgcol):\n",
    "    def iter_func(image, newlist):\n",
    "        date = ee.Number.parse(image.date().format(\"YYYYMMdd\"));\n",
    "        newlist = ee.List(newlist);\n",
    "        return ee.List(newlist.add(date).sort())\n",
    "    ymd = imgcol.iterate(iter_func, ee.List([]))\n",
    "    return list(ee.List(ymd).reduce(ee.Reducer.frequencyHistogram()).getInfo().keys())\n",
    "\n",
    "# forest cover mask\n",
    "def LC(image):\n",
    "    landcover = image.clip(roi)\n",
    "    return landcover.eq(4)"
   ]
  },
  {
   "cell_type": "code",
   "execution_count": 19,
   "metadata": {},
   "outputs": [],
   "source": [
    "# The LCMAP dataset is available through the GEE community assets \n",
    "# It is available from 1985 - 2020 \n",
    "# Based on that, I want to find which pixels are forested the entire time\n",
    "roi = ee.FeatureCollection('users/kmcquil/blue_ridge_plus_reference_xl').geometry()\n",
    "dataset = ee.ImageCollection(\"projects/sat-io/open-datasets/LCMAP/LCPRI\")\n",
    "dates = ymdList(dataset)"
   ]
  },
  {
   "cell_type": "code",
   "execution_count": 24,
   "metadata": {},
   "outputs": [
    {
     "name": "stdout",
     "output_type": "stream",
     "text": [
      "['19850101', '19860101', '19870101', '19880101', '19890101', '19900101', '19910101', '19920101', '19930101', '19940101', '19950101', '19960101', '19970101', '19980101', '19990101', '20000101', '20010101', '20020101', '20030101', '20040101', '20050101', '20060101', '20070101', '20080101', '20090101', '20100101', '20110101', '20120101', '20130101', '20140101', '20150101', '20160101', '20170101', '20180101', '20190101', '20200101']\n"
     ]
    }
   ],
   "source": [
    "print(dates)"
   ]
  },
  {
   "cell_type": "code",
   "execution_count": 34,
   "metadata": {},
   "outputs": [],
   "source": [
    "forest = dataset.map(LC)\n",
    "forest_sum = forest.sum()\n",
    "\n",
    "forest_sum_float = forest_sum.float()"
   ]
  },
  {
   "cell_type": "code",
   "execution_count": 21,
   "metadata": {},
   "outputs": [
    {
     "data": {
      "application/vnd.jupyter.widget-view+json": {
       "model_id": "eac83f0facc249eea1b7dcfd12323db7",
       "version_major": 2,
       "version_minor": 0
      },
      "text/plain": [
       "Map(center=[40, -100], controls=(WidgetControl(options=['position', 'transparent_bg'], widget=HBox(children=(T…"
      ]
     },
     "metadata": {},
     "output_type": "display_data"
    }
   ],
   "source": [
    "Map = geemap.Map(center=[40,-100], zoom=4)\n",
    "Map"
   ]
  },
  {
   "cell_type": "code",
   "execution_count": 23,
   "metadata": {},
   "outputs": [],
   "source": [
    "vizParams = {'min': 0, 'max': 35, 'palette': ['white', 'yellow', 'green', 'blue'],}\n",
    "Map.addLayer(forest_sum, vizParams, 'forest_cover')\n"
   ]
  },
  {
   "cell_type": "code",
   "execution_count": 35,
   "metadata": {},
   "outputs": [],
   "source": [
    "task_config = {\n",
    "        'region': roi,\n",
    "        'fileFormat': 'GeoTIFF',\n",
    "        'folder':'lcmap_permanent_forest',\n",
    "        'description': 'lcmap_permanent_forest',\n",
    "        'image': forest_sum_float,\n",
    "        'maxPixels':1e13, \n",
    "        'scale' : 30\n",
    "    }\n",
    "    \n",
    "task=ee.batch.Export.image.toDrive(**task_config)\n",
    "task.start()"
   ]
  },
  {
   "cell_type": "code",
   "execution_count": 40,
   "metadata": {},
   "outputs": [
    {
     "data": {
      "text/plain": [
       "{'state': 'RUNNING',\n",
       " 'description': 'lcmap_permanent_forest',\n",
       " 'creation_timestamp_ms': 1655856184706,\n",
       " 'update_timestamp_ms': 1655856559442,\n",
       " 'start_timestamp_ms': 1655856196847,\n",
       " 'task_type': 'EXPORT_IMAGE',\n",
       " 'attempt': 1,\n",
       " 'id': 'U6GBBQJ3UZK2HA7YSGI6KRLZ',\n",
       " 'name': 'projects/earthengine-legacy/operations/U6GBBQJ3UZK2HA7YSGI6KRLZ'}"
      ]
     },
     "execution_count": 40,
     "metadata": {},
     "output_type": "execute_result"
    }
   ],
   "source": [
    "task.status()"
   ]
  }
 ],
 "metadata": {
  "interpreter": {
   "hash": "695636c78fe1542d910ce8d46b08ce5bcf6a4f27a4d579ca6cb07c8f57dfa656"
  },
  "kernelspec": {
   "display_name": "Python 3.9.7 ('python-gis')",
   "language": "python",
   "name": "python3"
  },
  "language_info": {
   "codemirror_mode": {
    "name": "ipython",
    "version": 3
   },
   "file_extension": ".py",
   "mimetype": "text/x-python",
   "name": "python",
   "nbconvert_exporter": "python",
   "pygments_lexer": "ipython3",
   "version": "3.9.7"
  },
  "orig_nbformat": 4
 },
 "nbformat": 4,
 "nbformat_minor": 2
}
