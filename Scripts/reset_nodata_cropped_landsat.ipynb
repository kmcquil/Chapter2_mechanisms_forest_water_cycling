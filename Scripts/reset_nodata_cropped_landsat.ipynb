{
 "cells": [
  {
   "cell_type": "code",
   "execution_count": 6,
   "metadata": {},
   "outputs": [],
   "source": [
    "# when I cropped the landsat tifs in R it reset the nodata values\n",
    "# i need the nodata value to be np.nan\n",
    "import os\n",
    "from glob import glob\n",
    "import numpy as np\n",
    "import rasterio \n",
    "from rasterio.merge import merge\n",
    "from rasterio.plot import show\n",
    "from rasterio.mask import mask\n",
    "from osgeo import gdal\n",
    "import sys\n",
    "\n",
    "import multiprocess\n",
    "import itertools"
   ]
  },
  {
   "cell_type": "code",
   "execution_count": 19,
   "metadata": {},
   "outputs": [],
   "source": [
    "# set the nodata value to -9999 \n",
    "# but actually change all no data pixels to np.nan \n",
    "# also need to change all pixels == 0 to np.nan \n",
    "home = \"/Volumes/GoogleDrive/My Drive/Chapter2_mechanisms_forest_water_cycling\"\n",
    "ndvi_files = glob(os.path.join(home, \"Data\", \"NDVI\",\"Landsat\", \"Landsat_images_cropped\",\"*.tif\"))\n",
    "\n",
    "for file in ndvi_files: \n",
    "    with rasterio.open(file, GDAL_DISABLE_READDIR_ON_OPEN=False) as src: \n",
    "        img = np.ma.masked_values(src.read(masked=True), np.nan)\n",
    "        img[img == 0] = np.nan\n",
    "\n",
    "        out_name = os.path.join(home, \"Data\", \"NDVI\",\"Landsat\", \"Landsat_images\",os.path.basename(file))\n",
    "        out_meta = src.meta\n",
    "        out_meta.update({\"driver\": \"GTiff\",\n",
    "                 \"nodata\": -9999})\n",
    "        with rasterio.open(out_name, \"w\", **out_meta) as dest:\n",
    "            dest.write(img)\n"
   ]
  },
  {
   "cell_type": "code",
   "execution_count": 7,
   "metadata": {},
   "outputs": [],
   "source": [
    "home = \"/Volumes/GoogleDrive/My Drive/Chapter2_mechanisms_forest_water_cycling\"\n",
    "ndvi_files = glob(os.path.join(home, \"Data\", \"NDVI\",\"Landsat\", \"Landsat_images_cropped\",\"*.tif\"))\n",
    "\n",
    "def set_nodata(file): \n",
    "    with rasterio.open(file, GDAL_DISABLE_READDIR_ON_OPEN=False) as src: \n",
    "        img = np.ma.masked_values(src.read(masked=True), np.nan)\n",
    "        img[img == 0] = np.nan\n",
    "\n",
    "        out_name = os.path.join(home, \"Data\", \"NDVI\",\"Landsat\", \"Landsat_images\",os.path.basename(file))\n",
    "        out_meta = src.meta\n",
    "        out_meta.update({\"driver\": \"GTiff\",\n",
    "                \"nodata\": -9999})\n",
    "        with rasterio.open(out_name, \"w\", **out_meta) as dest:\n",
    "            dest.write(img)\n",
    "\n",
    "if __name__ == \"__main__\":\n",
    "   \n",
    "    # Create a process pool using all cores\n",
    "    cores = multiprocess.cpu_count() - 3\n",
    "    p = multiprocess.Pool(cores)\n",
    "\n",
    "    # parallel map\n",
    "    stats_lists = p.map(set_nodata, ndvi_files)\n",
    "\n"
   ]
  }
 ],
 "metadata": {
  "interpreter": {
   "hash": "f7e9e3ed62266d3386b0937140899a88d3a70dd81de793411d23e0292bf7f0bb"
  },
  "kernelspec": {
   "display_name": "Python 3.9.7 ('ch2-python-env')",
   "language": "python",
   "name": "python3"
  },
  "language_info": {
   "codemirror_mode": {
    "name": "ipython",
    "version": 3
   },
   "file_extension": ".py",
   "mimetype": "text/x-python",
   "name": "python",
   "nbconvert_exporter": "python",
   "pygments_lexer": "ipython3",
   "version": "3.9.7"
  },
  "orig_nbformat": 4
 },
 "nbformat": 4,
 "nbformat_minor": 2
}
