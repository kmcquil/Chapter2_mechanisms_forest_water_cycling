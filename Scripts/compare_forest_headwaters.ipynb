{
 "cells": [
  {
   "cell_type": "markdown",
   "metadata": {},
   "source": [
    "## Assess permanent forest cover in headwater and reference watersheds"
   ]
  },
  {
   "cell_type": "code",
   "execution_count": 1,
   "metadata": {},
   "outputs": [],
   "source": [
    "from rasterstats import zonal_stats\n",
    "import fiona\n",
    "import geopandas as gpd\n",
    "import os\n",
    "import pandas as pd\n",
    "import numpy as np\n",
    "\n",
    "import itertools\n",
    "import multiprocess\n",
    "\n",
    "home = \"/Volumes/GoogleDrive/My Drive/Chapter2_mechanisms_forest_water_cycling\""
   ]
  },
  {
   "cell_type": "markdown",
   "metadata": {},
   "source": [
    "#### Compare permanent forest cover in headwater catchments identified using NLCD vs LCMAP "
   ]
  },
  {
   "cell_type": "code",
   "execution_count": 2,
   "metadata": {},
   "outputs": [],
   "source": [
    "# all headwaters shapefile \n",
    "shp = os.path.join(home, \"Data\", \"Catchments\", \"Headwater\", \"headwater_catchments_sbr_shp.shp\")"
   ]
  },
  {
   "cell_type": "code",
   "execution_count": 3,
   "metadata": {},
   "outputs": [
    {
     "data": {
      "text/plain": [
       "(21271, 6)"
      ]
     },
     "execution_count": 3,
     "metadata": {},
     "output_type": "execute_result"
    }
   ],
   "source": [
    "# NLCD: permanent forest 100% and the catchment is greater than 0.025 (>= 0.025 gives at least 5 ecostress pixels to a headwater catchment)\n",
    "shape_gdf = gpd.read_file(shp)\n",
    "perm_forest_pd = pd.read_csv(os.path.join(home, \"Data\", \"nlcd_permanent_forest\", \"headwater_pct_forest.csv\"))\n",
    "nlcd_pf = shape_gdf.merge(perm_forest_pd[['percent_forest', 'NHDPlusID']], on = \"NHDPlusID\", how = 'left')\n",
    "nlcd_pf = nlcd_pf[nlcd_pf['percent_forest'] == 1]\n",
    "nlcd_pf = nlcd_pf[nlcd_pf.AreaSqKm_x >= 0.025]\n",
    "nlcd_pf.shape"
   ]
  },
  {
   "cell_type": "code",
   "execution_count": 4,
   "metadata": {},
   "outputs": [
    {
     "data": {
      "text/plain": [
       "(30045, 6)"
      ]
     },
     "execution_count": 4,
     "metadata": {},
     "output_type": "execute_result"
    }
   ],
   "source": [
    "# compare with LCMAP permanent forest \n",
    "shape_gdf = gpd.read_file(shp)\n",
    "lcmap = pd.read_csv(os.path.join(home, \"Data\", \"lcmap_permanent_forest\", \"lcmap_headwater_pct_forest.csv\"))\n",
    "lcmap['percent_forest'] = lcmap['36.0'] / lcmap.iloc[:,1:(lcmap.shape[1]-1)].sum(axis=1)\n",
    "lcmap_pf = shape_gdf.merge(lcmap[['percent_forest', 'NHDPlusID']], on = \"NHDPlusID\", how = 'left')\n",
    "lcmap_all = lcmap_pf\n",
    "lcmap_pf = lcmap_pf[lcmap_pf['percent_forest'] == 1]\n",
    "#lcmap_pf = lcmap_pf[lcmap_pf['percent_forest'] >= 0.98]\n",
    "lcmap_pf = lcmap_pf[lcmap_pf.AreaSqKm_x >= 0.025]\n",
    "lcmap_pf.shape\n",
    "\n",
    "lcmap_all.to_file(os.path.join(home, \"Data\", \"Catchments\", \"Headwater\", \"headwater_catchments_lcmap.shp\"))"
   ]
  },
  {
   "cell_type": "code",
   "execution_count": 7,
   "metadata": {},
   "outputs": [
    {
     "name": "stdout",
     "output_type": "stream",
     "text": [
      "nlcd in lcmap =  16777\n",
      "nlcd NOT in lcmap =  4494\n",
      "lcmap NOT in nlcd =  13268\n"
     ]
    }
   ],
   "source": [
    "# we trust the lcmap data more and i have it for more dates \n",
    "# it also gives us more catchments to work with, which is nice \n",
    "nlcd_ids = nlcd_pf['NHDPlusID'].to_numpy()\n",
    "lcmap_ids = lcmap_pf['NHDPlusID'].to_numpy()\n",
    "\n",
    "# find which nlcd ids are in lcmap \n",
    "s = set(lcmap_ids)\n",
    "booleans = [i in s for i in nlcd_ids]\n",
    "nlcd_in_lcmap = nlcd_ids[booleans] \n",
    "print('nlcd in lcmap = ', len(nlcd_in_lcmap))\n",
    "\n",
    "# find which nlcd ids are not in lcmap  \n",
    "s = set(lcmap_ids)\n",
    "booleans = [i not in s for i in nlcd_ids]\n",
    "nlcd_notin_lcmap = nlcd_ids[booleans] # 18865\n",
    "print('nlcd NOT in lcmap = ', len(nlcd_notin_lcmap))\n",
    "\n",
    "\n",
    "# find which lcmap are not in nlcd \n",
    "s = set(nlcd_ids)\n",
    "booleans = [i not in s for i in lcmap_ids]\n",
    "lcmap_notin_nlcd = lcmap_ids[booleans]\n",
    "print('lcmap NOT in nlcd = ', len(lcmap_notin_nlcd))\n"
   ]
  },
  {
   "cell_type": "code",
   "execution_count": 9,
   "metadata": {},
   "outputs": [
    {
     "name": "stderr",
     "output_type": "stream",
     "text": [
      "/Users/katiemcquillan/opt/anaconda3/envs/ch2-python-env/lib/python3.9/site-packages/geopandas/io/file.py:362: FutureWarning: pandas.Int64Index is deprecated and will be removed from pandas in a future version. Use pandas.Index with the appropriate dtype instead.\n",
      "  pd.Int64Index,\n",
      "/var/folders/6_/17bx0qz13sjdf13yymjj7kb00000gn/T/ipykernel_88480/3447724396.py:2: UserWarning: Column names longer than 10 characters will be truncated when saved to ESRI Shapefile.\n",
      "  lcmap_pf.to_file(os.path.join(home, \"Data\", \"Catchments\", \"Headwater\", \"headwater_catchments_perm_forest.shp\"))\n"
     ]
    }
   ],
   "source": [
    "# I am going to use the lcmap 100% forested headwater catchments that are >= 0.025 km2 \n",
    "lcmap_pf.to_file(os.path.join(home, \"Data\", \"Catchments\", \"Headwater\", \"headwater_catchments_perm_forest.shp\"))\n",
    "\n",
    "# reproject and save \n",
    "lcmap_pf_32617 = lcmap_pf.to_crs(\"EPSG:32617\")\n",
    "lcmap_pf_32617.to_file(os.path.join(home, \"Data\", \"Catchments\", \"Headwater\", \"headwater_catchments_perm_forest_32617.shp\"))\n",
    "\n",
    "# get the mean area of all catchments\n",
    "np.mean(lcmap_pf_32617.AreaSqKm_x)"
   ]
  },
  {
   "cell_type": "markdown",
   "metadata": {},
   "source": [
    "### Permanent forest cover in the refrence watersheds"
   ]
  },
  {
   "cell_type": "code",
   "execution_count": 8,
   "metadata": {},
   "outputs": [],
   "source": [
    "shp = os.path.join(home, \"Data\", \"Catchments\", \"Reference\", \"gages_ii\",  \"reference_keep_4326.shp\")\n",
    "tif = os.path.join(home, \"Data\", \"lcmap_permanent_forest\", \"lcmap_permanent_forest.tif\")\n",
    "lcmap_rw = gpd.read_file(os.path.join(home, \"Data\", \"lcmap_permanent_forest\", \"lcmap_reference_watersheds.csv\"))\n",
    "lcmap_rw = lcmap_rw.rename(columns=lcmap_rw.iloc[0])\n",
    "lcmap_rw = lcmap_rw.iloc[1:,1:lcmap_rw.shape[1]-1]\n",
    "cols = lcmap_rw.columns[lcmap_rw.dtypes.eq('object')]\n",
    "lcmap_rw[cols] = lcmap_rw[cols].apply(pd.to_numeric, errors='coerce')\n",
    "lcmap_rw = lcmap_rw.replace(np.nan, 0)\n",
    "lcmap_rw['percent_forest'] = lcmap_rw['36.0'] / lcmap_rw.iloc[:,0:(lcmap_rw.shape[1]-1)].sum(axis=1)\n",
    "lcmap_rw[['GAGE_ID', 'percent_forest']].to_csv(os.path.join(home, \"Data\", \"lcmap_permanent_forest\", \"lcmap_perm_forest_reference_watersheds.csv\"), index=False)"
   ]
  }
 ],
 "metadata": {
  "interpreter": {
   "hash": "f7e9e3ed62266d3386b0937140899a88d3a70dd81de793411d23e0292bf7f0bb"
  },
  "kernelspec": {
   "display_name": "Python 3.9.7 ('ch2-python-env')",
   "language": "python",
   "name": "python3"
  },
  "language_info": {
   "codemirror_mode": {
    "name": "ipython",
    "version": 3
   },
   "file_extension": ".py",
   "mimetype": "text/x-python",
   "name": "python",
   "nbconvert_exporter": "python",
   "pygments_lexer": "ipython3",
   "version": "3.9.7"
  },
  "orig_nbformat": 4
 },
 "nbformat": 4,
 "nbformat_minor": 2
}
