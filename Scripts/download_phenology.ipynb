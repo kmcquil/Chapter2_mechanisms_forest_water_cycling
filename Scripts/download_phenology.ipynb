{
 "cells": [
  {
   "cell_type": "markdown",
   "metadata": {},
   "source": [
    "### Download land surface phenology \n",
    "\n",
    "Vegetation Index and Phenology (VIP) Phenology EVI-2 Yearly Global 0.05Deg CMG V004 from 1989 - 2014\n"
   ]
  },
  {
   "cell_type": "code",
   "execution_count": null,
   "metadata": {},
   "outputs": [],
   "source": [
    "# put the file in the folder where i want the data to go \n",
    "# here the commands just so i have them but it's executed in the command line \n",
    "\n",
    "# cd \n",
    "# chmod 777 download.sh\n",
    "# ./download.sh\n",
    "\n",
    "# katiemcquillan\n",
    "# Babyraccoon1"
   ]
  }
 ],
 "metadata": {
  "interpreter": {
   "hash": "f7e9e3ed62266d3386b0937140899a88d3a70dd81de793411d23e0292bf7f0bb"
  },
  "kernelspec": {
   "display_name": "Python 3.9.7 ('ch2-python-env')",
   "language": "python",
   "name": "python3"
  },
  "language_info": {
   "name": "python",
   "version": "3.9.7"
  },
  "orig_nbformat": 4
 },
 "nbformat": 4,
 "nbformat_minor": 2
}
