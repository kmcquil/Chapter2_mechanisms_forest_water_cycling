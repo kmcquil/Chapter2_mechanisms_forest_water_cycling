{
 "cells": [
  {
   "cell_type": "code",
   "execution_count": 1,
   "metadata": {},
   "outputs": [],
   "source": [
    "import pandas as pd\n",
    "import geopandas as gpd\n",
    "import numpy as np \n",
    "import os\n",
    "import pymannkendall as mk\n",
    "import matplotlib.pyplot as plt\n",
    "import seaborn as sns\n",
    "\n",
    "home = \"/Volumes/GoogleDrive/My Drive/Chapter2_mechanisms_forest_water_cycling\""
   ]
  },
  {
   "cell_type": "code",
   "execution_count": 2,
   "metadata": {},
   "outputs": [],
   "source": [
    "# subset to anomalies\n",
    "# Group by NHDPlusID, Var, and Season\n",
    "# sort by year\n",
    "# calculate sens slope and mann kendall trend test \n",
    "\n",
    "def clim_trend(Value, Year):\n",
    "    sorted_values = [x for _, x in sorted(zip(Year, Value))]\n",
    "    mks = mk.original_test(sorted_values)\n",
    "    pvalue = mks[2]\n",
    "    slope = mks[7]\n",
    "    pd_list = [{'slope':slope, 'pvalue':pvalue}]\n",
    "    return pd.DataFrame(pd_list)\n",
    "\n",
    "def summarize_climate_trend(VAR):\n",
    "    df = pd.read_csv(os.path.join(home, \"Data\", \"Climate\", \"Summary\", VAR))\n",
    "    df = df.drop(['Unnamed: 0'], axis=1)\n",
    "    df = df[df['Type'] == 'anomalies']\n",
    "    df_trends = df.groupby(['NHDPlusID', 'Season']).apply(lambda x: clim_trend(x.Value, x.Year))\n",
    "    df_trends = df_trends.reset_index()\n",
    "    df_trends.to_csv(os.path.join(home, \"Data\", \"Climate\", \"Summary\", 'gs_trends_' + VAR))\n",
    "    return "
   ]
  },
  {
   "cell_type": "code",
   "execution_count": null,
   "metadata": {},
   "outputs": [],
   "source": [
    "prcp_trends = summarize_climate_trend(\"gs_prcp.csv\")\n",
    "tmax_trends = summarize_climate_trend(\"gs_tmax.csv\")\n",
    "tmin_trends = summarize_climate_trend(\"gs_tmin.csv\")\n",
    "vp_trends = summarize_climate_trend(\"gs_vp.csv\")\n",
    "vpd_trends = summarize_climate_trend(\"gs_vpd.csv\")\n",
    "par_trends = summarize_climate_trend(\"gs_par.csv\")"
   ]
  },
  {
   "cell_type": "code",
   "execution_count": 22,
   "metadata": {},
   "outputs": [
    {
     "data": {
      "image/png": "[encoded data removed]",
      "text/plain": [
       "<Figure size 1080x360 with 6 Axes>"
      ]
     },
     "metadata": {
      "needs_background": "light"
     },
     "output_type": "display_data"
    }
   ],
   "source": [
    "# summarize the climate trend extent and make a nice table and plot\n",
    "def summarize_trends(slope, pval):\n",
    "    pval = pval.tolist()\n",
    "    slope = slope.tolist()\n",
    "    keep = [i for i in range(len(pval)) if pval[i] <= 0.05]\n",
    "    keep_slopes = pd.DataFrame({'SigSlope':[slope[x] for x in keep]})\n",
    "    pos_slopes = keep_slopes[keep_slopes['SigSlope'] > 0].shape[0]/len(slope)\n",
    "    neg_slopes = keep_slopes[keep_slopes['SigSlope'] <= 0].shape[0]/len(slope)\n",
    "    dix = [{\"pos_slope_pct\":round(pos_slopes, 3), \"neg_slope_pct\":round(neg_slopes, 3)}]\n",
    "    return pd.DataFrame(dix)\n",
    "\n",
    "def summarize_climate_trends(VAR_LIST): \n",
    "    results = []\n",
    "    for VAR in VAR_LIST:\n",
    "        trend = pd.read_csv(os.path.join(home, \"Data\", \"Climate\", \"Summary\", 'gs_trends_gs_' + VAR + \".csv\"))\n",
    "        summary = trend.groupby(['Season']).apply(lambda x: summarize_trends(x.slope, x.pvalue)).reset_index()\n",
    "        summary['var'] = [VAR]*summary.shape[0]\n",
    "        summary = summary.drop(['level_1'], axis=1)\n",
    "        results.append(summary)\n",
    "\n",
    "    result = pd.concat(results)\n",
    "    return result   \n",
    "\n",
    "vars = ['prcp','tmin', 'tmax', 'vp', 'vpd','par']\n",
    "trends = summarize_climate_trends(vars)\n",
    "\n",
    "# plot the brekdown of isgnficant trends by season \n",
    "fig, axes = plt.subplots(nrows=1,ncols=6, figsize=(15,5), constrained_layout=True, sharex=True, sharey=True)\n",
    "trends = trends.rename(columns={\"Season\":\"Season\", \"pos_slope_pct\":\"Significant Positive Slope\", \"neg_slope_pct\":\"Significant Negative Slope\", \"var\":\"var\"})\n",
    "for i, ax in zip(range(len(vars)), axes.flatten()):\n",
    "    sub = trends[trends['var'] == vars[i]]\n",
    "    if i == 0:\n",
    "        sub.plot(x='Season', kind='bar', stacked=False, title=vars[i], ax=ax, width=0.8, legend=True, ylabel=\"Fraction of catchments\")\n",
    "    else:\n",
    "        sub.plot(x='Season', kind='bar', stacked=False, title=vars[i], ax=ax, width=0.8, legend=False)\n"
   ]
  },
  {
   "cell_type": "code",
   "execution_count": 23,
   "metadata": {},
   "outputs": [
    {
     "data": {
      "text/html": [
       "<div>\n",
       "<style scoped>\n",
       "    .dataframe tbody tr th:only-of-type {\n",
       "        vertical-align: middle;\n",
       "    }\n",
       "\n",
       "    .dataframe tbody tr th {\n",
       "        vertical-align: top;\n",
       "    }\n",
       "\n",
       "    .dataframe thead th {\n",
       "        text-align: right;\n",
       "    }\n",
       "</style>\n",
       "<table border=\"1\" class=\"dataframe\">\n",
       "  <thead>\n",
       "    <tr style=\"text-align: right;\">\n",
       "      <th></th>\n",
       "      <th>Season</th>\n",
       "      <th>Significant Positive Slope</th>\n",
       "      <th>Significant Negative Slope</th>\n",
       "      <th>var</th>\n",
       "    </tr>\n",
       "  </thead>\n",
       "  <tbody>\n",
       "    <tr>\n",
       "      <th>0</th>\n",
       "      <td>AMJJA</td>\n",
       "      <td>0.301</td>\n",
       "      <td>0.000</td>\n",
       "      <td>prcp</td>\n",
       "    </tr>\n",
       "    <tr>\n",
       "      <th>0</th>\n",
       "      <td>AMJJA</td>\n",
       "      <td>0.878</td>\n",
       "      <td>0.000</td>\n",
       "      <td>tmin</td>\n",
       "    </tr>\n",
       "    <tr>\n",
       "      <th>0</th>\n",
       "      <td>AMJJA</td>\n",
       "      <td>0.112</td>\n",
       "      <td>0.025</td>\n",
       "      <td>tmax</td>\n",
       "    </tr>\n",
       "    <tr>\n",
       "      <th>0</th>\n",
       "      <td>AMJJA</td>\n",
       "      <td>0.931</td>\n",
       "      <td>0.000</td>\n",
       "      <td>vp</td>\n",
       "    </tr>\n",
       "    <tr>\n",
       "      <th>0</th>\n",
       "      <td>AMJJA</td>\n",
       "      <td>0.008</td>\n",
       "      <td>0.128</td>\n",
       "      <td>vpd</td>\n",
       "    </tr>\n",
       "    <tr>\n",
       "      <th>0</th>\n",
       "      <td>AMJJA</td>\n",
       "      <td>0.000</td>\n",
       "      <td>0.665</td>\n",
       "      <td>par</td>\n",
       "    </tr>\n",
       "  </tbody>\n",
       "</table>\n",
       "</div>"
      ],
      "text/plain": [
       "  Season  Significant Positive Slope  Significant Negative Slope   var\n",
       "0  AMJJA                       0.301                       0.000  prcp\n",
       "0  AMJJA                       0.878                       0.000  tmin\n",
       "0  AMJJA                       0.112                       0.025  tmax\n",
       "0  AMJJA                       0.931                       0.000    vp\n",
       "0  AMJJA                       0.008                       0.128   vpd\n",
       "0  AMJJA                       0.000                       0.665   par"
      ]
     },
     "execution_count": 23,
     "metadata": {},
     "output_type": "execute_result"
    }
   ],
   "source": [
    "trends"
   ]
  },
  {
   "cell_type": "code",
   "execution_count": 27,
   "metadata": {},
   "outputs": [],
   "source": [
    "# make a table of the summmary statistics for climate trend and the fraction of catchments with a significant trend \n",
    "def summary_stats(var):\n",
    "    trend_dt = pd.read_csv(os.path.join(home, \"Data\", \"Climate\", \"Summary\", 'gs_trends_gs_' + var + \".csv\"))\n",
    "    trend_dt = trend_dt[trend_dt[\"Season\"] == \"AMJJA\"]\n",
    "    trend_dt = trend_dt[trend_dt[\"pvalue\"] <= 0.05]\n",
    "    slope = trend_dt.slope\n",
    "    fq = np.quantile(slope, 0.25)\n",
    "    med = np.quantile(slope, 0.5)\n",
    "    men = np.mean(slope)\n",
    "    tq = np.quantile(slope, 0.75)\n",
    "    sd = np.std(slope)\n",
    "    frac = len(slope)/30044\n",
    "    row = {'Pred':var,'FracSig':frac, \"FQ\":fq, \"Median\":med, \"Mean\":men, \"TQ\":tq, \"SD\":sd}\n",
    "    return row\n",
    "\n",
    "vars = ['tmin', 'tmax', 'vp', 'vpd','prcp', 'par']\n",
    "rows = []\n",
    "for var in vars:\n",
    "    rows.append(summary_stats(var))\n",
    "\n",
    "trend_summary = pd.DataFrame(rows)\n",
    "trend_summary\n",
    "trend_summary.to_csv(os.path.join(home, \"Data\",\"climate_trend_summary_stats.csv\"))\n"
   ]
  },
  {
   "cell_type": "code",
   "execution_count": 5,
   "metadata": {},
   "outputs": [],
   "source": [
    "# compare with gridmet just to double check this resul t\n",
    "def clim_trend(Value, Year):\n",
    "    sorted_values = [x for _, x in sorted(zip(Year, Value))]\n",
    "    mks = mk.original_test(sorted_values)\n",
    "    pvalue = mks[2]\n",
    "    slope = mks[7]\n",
    "    pd_list = [{'slope':slope, 'pvalue':pvalue}]\n",
    "    return pd.DataFrame(pd_list)\n",
    "\n",
    "def summarize_climate_trend(VAR):\n",
    "    df = pd.read_csv(os.path.join(home, \"Data\", \"Climate\", \"gridmet\",\"Summary\", VAR))\n",
    "    df = df.drop(['Unnamed: 0'], axis=1)\n",
    "    df = df[df['Type'] == 'anomalies']\n",
    "    df_trends = df.groupby(['NHDPlusID', 'Season']).apply(lambda x: clim_trend(x.Value, x.Year))\n",
    "    df_trends = df_trends.reset_index()\n",
    "    df_trends.to_csv(os.path.join(home, \"Data\", \"Climate\", \"gridmet\",\"Summary\", 'gs_trends_' + VAR))\n",
    "    return "
   ]
  },
  {
   "cell_type": "code",
   "execution_count": 6,
   "metadata": {},
   "outputs": [],
   "source": [
    "summarize_climate_trend(\"gs_vpd.csv\")"
   ]
  },
  {
   "cell_type": "code",
   "execution_count": 21,
   "metadata": {},
   "outputs": [
    {
     "data": {
      "text/html": [
       "<div>\n",
       "<style scoped>\n",
       "    .dataframe tbody tr th:only-of-type {\n",
       "        vertical-align: middle;\n",
       "    }\n",
       "\n",
       "    .dataframe tbody tr th {\n",
       "        vertical-align: top;\n",
       "    }\n",
       "\n",
       "    .dataframe thead th {\n",
       "        text-align: right;\n",
       "    }\n",
       "</style>\n",
       "<table border=\"1\" class=\"dataframe\">\n",
       "  <thead>\n",
       "    <tr style=\"text-align: right;\">\n",
       "      <th></th>\n",
       "      <th>Season</th>\n",
       "      <th>pos_slope_pct</th>\n",
       "      <th>neg_slope_pct</th>\n",
       "      <th>var</th>\n",
       "    </tr>\n",
       "  </thead>\n",
       "  <tbody>\n",
       "    <tr>\n",
       "      <th>0</th>\n",
       "      <td>AMJJA</td>\n",
       "      <td>0.016</td>\n",
       "      <td>0.0</td>\n",
       "      <td>VPD</td>\n",
       "    </tr>\n",
       "  </tbody>\n",
       "</table>\n",
       "</div>"
      ],
      "text/plain": [
       "  Season  pos_slope_pct  neg_slope_pct  var\n",
       "0  AMJJA          0.016            0.0  VPD"
      ]
     },
     "execution_count": 21,
     "metadata": {},
     "output_type": "execute_result"
    }
   ],
   "source": [
    "gridmet_vpd_trend = pd.read_csv(os.path.join(home, \"Data\", \"Climate\", \"gridmet\",\"Summary\", \"gs_trends_gs_vpd.csv\"))\n",
    "summary = gridmet_vpd_trend.groupby(['Season']).apply(lambda x: summarize_trends(x.slope, x.pvalue)).reset_index()\n",
    "summary['var'] = ['VPD']*summary.shape[0]\n",
    "summary = summary.drop(['level_1'], axis=1)\n",
    "summary"
   ]
  },
  {
   "cell_type": "code",
   "execution_count": 24,
   "metadata": {},
   "outputs": [],
   "source": [
    "# Gridmet has 1.6% of catchments with a significant positive slope \n",
    "# Daymet shows 0.8% of catchments with a significant positive slope and 12% with a significant negative slope \n",
    "# Daymet shows 66.5% of catchments with a significant negative slope in photosynthetically active radiation (PAR) ---- i think this could be related to the increase in precipitation \n",
    "\n",
    "# So I'm going to stick with daymet (that i calculated myself) because it's pretty similar to gridmet (calculated by the gridmet team) and is higher resolution "
   ]
  }
 ],
 "metadata": {
  "interpreter": {
   "hash": "e46be1cfd307664acdd8a7483f1a090247b9c3063ffd9b64892479227f912ad5"
  },
  "kernelspec": {
   "display_name": "Python 3.10.0 64-bit ('3.10.0')",
   "language": "python",
   "name": "python3"
  },
  "language_info": {
   "codemirror_mode": {
    "name": "ipython",
    "version": 3
   },
   "file_extension": ".py",
   "mimetype": "text/x-python",
   "name": "python",
   "nbconvert_exporter": "python",
   "pygments_lexer": "ipython3",
   "version": "3.9.7"
  },
  "orig_nbformat": 4
 },
 "nbformat": 4,
 "nbformat_minor": 2
}
